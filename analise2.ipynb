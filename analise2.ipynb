{
  "nbformat": 4,
  "nbformat_minor": 0,
  "metadata": {
    "colab": {
      "name": "Artigo 1(v4).ipynb",
      "provenance": [],
      "collapsed_sections": [
        "soJ9wTmh3Dp_",
        "4aNeoqc0ihkH",
        "MzAJGgpvPwY6",
        "w5XQkRtMBUcY"
      ],
      "include_colab_link": true
    },
    "kernelspec": {
      "name": "python3",
      "display_name": "Python 3"
    },
    "accelerator": "GPU"
  },
  "cells": [
    {
      "cell_type": "markdown",
      "metadata": {
        "id": "view-in-github",
        "colab_type": "text"
      },
      "source": [
        "<a href=\"https://colab.research.google.com/github/Joylan/ANN-Models/blob/main/analise2.ipynb\" target=\"_parent\"><img src=\"https://colab.research.google.com/assets/colab-badge.svg\" alt=\"Open In Colab\"/></a>"
      ]
    },
    {
      "cell_type": "markdown",
      "metadata": {
        "id": "LZAWzNRihklC"
      },
      "source": [
        "Etapas:\n",
        "* Pre Processamento da base de dados\n",
        "* Comparação de estruturas (camadas e número de neurônios)\n",
        "* Comparação de inputs (todos vs dimensionality reduction)\n",
        "* Comparação de horizontes: 1, 30 e 60 minutos.\n",
        "* **FAZER COLOCAR TABELA DE COMPARAÇÕES**\n",
        "\n",
        "\n",
        "* Distinto conjunto de Dados de entrada (reduzir dimensionalidade).\n",
        "* Definir quais conjunto de variáveis/inputs (F1 e F2) usar\n",
        "    * F1 Todos as variáveis meteorológicas + GHI \n",
        "    * F2 Features selection + GHI\n",
        "* Treinar e avaliar os conjuntos de modelos\n",
        "* Realizar as análises comparativas \n",
        "    * M1F1 e M1F2\n",
        "    * M1F1 e M1F2\n",
        "    * M2F1 e M2F2\n",
        "* Elaboração de um modelo de predição\n",
        "* Análise experimental.\n"
      ]
    },
    {
      "cell_type": "code",
      "metadata": {
        "id": "NNsBeWFip9MX",
        "outputId": "13b71b64-4d15-4140-a920-81e0515a6886",
        "colab": {
          "base_uri": "https://localhost:8080/",
          "height": 34
        }
      },
      "source": [
        "from google.colab import drive\n",
        "drive.mount('/content/drive')"
      ],
      "execution_count": null,
      "outputs": [
        {
          "output_type": "stream",
          "text": [
            "Mounted at /content/drive\n"
          ],
          "name": "stdout"
        }
      ]
    },
    {
      "cell_type": "markdown",
      "metadata": {
        "id": "gSWhi_g5QOy_"
      },
      "source": [
        "# Importações"
      ]
    },
    {
      "cell_type": "code",
      "metadata": {
        "id": "jfTMlJicQQe3",
        "cellView": "both"
      },
      "source": [
        "import numpy as np\n",
        "import pandas as pd\n",
        "import matplotlib.pyplot as plt\n",
        "\n",
        "import tensorflow as tf\n",
        "from tensorflow.keras.backend import clear_session\n",
        "from tensorflow.keras.models import Sequential, load_model\n",
        "from tensorflow.keras.initializers import GlorotNormal\n",
        "from tensorflow.keras.layers import Dense, Dropout, BatchNormalization\n",
        "from tensorflow.keras.callbacks import Callback, EarlyStopping, ModelCheckpoint\n",
        "\n",
        "from sklearn.metrics import r2_score\n",
        "\n",
        "import os\n",
        "import time\n",
        "from glob import glob\n",
        "\n",
        "from plotly.offline import iplot\n",
        "import plotly.graph_objs as go\n",
        "import plotly.offline as py\n"
      ],
      "execution_count": null,
      "outputs": []
    },
    {
      "cell_type": "markdown",
      "metadata": {
        "id": "soJ9wTmh3Dp_"
      },
      "source": [
        "# Funções Auxiliares"
      ]
    },
    {
      "cell_type": "markdown",
      "metadata": {
        "id": "tXpGYSWEbrBZ"
      },
      "source": [
        "Colocar aqui as funções que são auxiliares ao programa"
      ]
    },
    {
      "cell_type": "code",
      "metadata": {
        "id": "GF6iKdHP3DFb"
      },
      "source": [
        "#Com GHI\n",
        "def split_sequences_ghi(sequences, n_steps):\n",
        "\tX, y = list(), list()\n",
        "\tfor i in range(len(sequences)):\n",
        "\t\t# find the end of this pattern\n",
        "\t\tend_ix = i + n_steps\n",
        "\t\t# check if we are beyond the dataset\n",
        "\t\tif end_ix > len(sequences):\n",
        "\t\t\tbreak\n",
        "\t\t# gather input and output parts of the pattern\n",
        "\t\tseq_x, seq_y = sequences[i:end_ix, :], sequences[end_ix-1, -1]\n",
        "\t\tX.append(seq_x)\n",
        "\t\ty.append(seq_y)\n",
        "\treturn np.array(X), np.array(y)\n",
        " \n",
        "\n",
        "#SEM GHI\n",
        "def split_sequences(sequences, n_steps):\n",
        "\tX, y = list(), list()\n",
        "\tfor i in range(len(sequences)):\n",
        "\t\t# find the end of this pattern\n",
        "\t\tend_ix = i + n_steps\n",
        "\t\t# check if we are beyond the dataset\n",
        "\t\tif end_ix > len(sequences):\n",
        "\t\t\tbreak\n",
        "\t\t# gather input and output parts of the pattern\n",
        "\t\tseq_x, seq_y = sequences[i:end_ix, :-1], sequences[end_ix-1, -1]\n",
        "\t\tX.append(seq_x)\n",
        "\t\ty.append(seq_y)\n",
        "\treturn np.array(X), np.array(y)"
      ],
      "execution_count": null,
      "outputs": []
    },
    {
      "cell_type": "code",
      "metadata": {
        "id": "OQc35ekJSmyD"
      },
      "source": [
        "def coeff_determination(y_true, y_pred):\n",
        "    from keras import backend as K\n",
        "    SS_res =  K.sum(K.square(y_true - y_pred)) \n",
        "    SS_tot = K.sum(K.square(y_true - K.mean(y_true))) \n",
        "    return ( 1 - SS_res/(SS_tot) )"
      ],
      "execution_count": null,
      "outputs": []
    },
    {
      "cell_type": "markdown",
      "metadata": {
        "id": "4aNeoqc0ihkH"
      },
      "source": [
        "# Pre Processamento\n",
        "\n",
        "FEITO: Criar uma função que carregue a base de dados do pedro, e retorne os \n",
        "\n",
        "dados preparados para entrar na rede neural.\n",
        "Esta função tem como parametros de entrada:\n",
        "1. Caminho até os dados meterologicos.\n",
        "2. Caminho até os dados ghi.\n",
        "3. As colunas que serão dropadas caso houver.\n",
        "4. O horizonte dos dados"
      ]
    },
    {
      "cell_type": "code",
      "metadata": {
        "id": "j-CGXbziUkU1"
      },
      "source": [
        "def get_data(weatherPath: str, \n",
        "             irradiancePath: str,\n",
        "             timeStamp: int,\n",
        "             drops: list = None) -> pd.DataFrame:\n",
        "    \"\"\"Função carrega os dados do pedro\n",
        "\n",
        "    Args:\n",
        "        weatherPath (str): Caminho até os dados meterologicos\n",
        "        irradiancePath (str): Caminho até os dados de irradiação\n",
        "        timeStamp (int): O intervalo das medições\n",
        "        drops (list, optional): Colunas a serem retiradas dos dados. Defaults to None.\n",
        "\n",
        "    Returns:\n",
        "        pd.DataFrame: DataFrame com os dados do pedro\n",
        "    \"\"\"\n",
        "    if timeStamp == 60:\n",
        "      if drops is None:\n",
        "      \n",
        "        dataWeather = pd.read_csv(weatherPath, index_col = 0, parse_dates = True)\n",
        "        dataWeather[\"month\"] = dataWeather.index.month\n",
        "        dataWeather[\"day\"] = dataWeather.index.day\n",
        "        dataWeather[\"hour\"] = dataWeather.index.hour\n",
        "        \n",
        "\n",
        "        dataIrradiance = pd.read_csv(irradiancePath, index_col = 0, usecols=[0,1],\n",
        "                                    parse_dates = True)\n",
        "        \n",
        "        data = pd.concat([dataWeather,dataIrradiance], axis = 1)\n",
        "        data.dropna(inplace=True)\n",
        "        data = data[data.index.minute % timeStamp == 0]\n",
        "\n",
        "        return data\n",
        "\n",
        "      elif type(drops) is list:\n",
        "        try:\n",
        "          dataWeather = pd.read_csv(weatherPath, index_col = 0, parse_dates = True)\n",
        "          dataWeather[\"month\"] = dataWeather.index.month\n",
        "          dataWeather[\"day\"] = dataWeather.index.day\n",
        "          dataWeather[\"hour\"] = dataWeather.index.hour\n",
        "          \n",
        "          dataWeather.drop(drops,axis=1,inplace=True)\n",
        "\n",
        "          dataIrradiance = pd.read_csv(irradiancePath, index_col = 0, usecols=[0,1],\n",
        "                                      parse_dates = True)\n",
        "          \n",
        "          data = pd.concat([dataWeather,dataIrradiance], axis = 1)\n",
        "          data.dropna(inplace=True)\n",
        "          data = data[data.index.minute % timeStamp == 0]\n",
        "\n",
        "        \n",
        "\n",
        "          return data\n",
        "\n",
        "        except KeyError:\n",
        "          print(\"[INFO] Colunas selecionadas para remoção, não existem nos dados\")\n",
        "          print(\"[INFO] Nenhuma coluna foi removida\")\n",
        "\n",
        "          dataWeather = pd.read_csv(weatherPath, index_col = 0, parse_dates = True)\n",
        "          dataWeather[\"month\"] = dataWeather.index.month\n",
        "          dataWeather[\"day\"] = dataWeather.index.day\n",
        "          dataWeather[\"hour\"] = dataWeather.index.hour\n",
        "          \n",
        "\n",
        "          dataIrradiance = pd.read_csv(irradiancePath, index_col = 0, usecols=[0,1],\n",
        "                                      parse_dates = True)\n",
        "          \n",
        "          data = pd.concat([dataWeather,dataIrradiance], axis = 1)\n",
        "          data.dropna(inplace=True)\n",
        "          data = data[data.index.minute % timeStamp == 0]\n",
        "\n",
        "          return data\n",
        "\n",
        "      else:\n",
        "        raise TypeError(\"Argumento drops precisa ser None ou List\")\n",
        "    #não 60\n",
        "    else:\n",
        "\n",
        "      if drops is None:\n",
        "        \n",
        "        dataWeather = pd.read_csv(weatherPath, index_col = 0, parse_dates = True)\n",
        "        dataWeather[\"month\"] = dataWeather.index.month\n",
        "        dataWeather[\"day\"] = dataWeather.index.day\n",
        "        dataWeather[\"hour\"] = dataWeather.index.hour\n",
        "        dataWeather[\"minute\"] = dataWeather.index.minute\n",
        "\n",
        "        dataIrradiance = pd.read_csv(irradiancePath, index_col = 0, usecols=[0,1],\n",
        "                                    parse_dates = True)\n",
        "        \n",
        "        data = pd.concat([dataWeather,dataIrradiance], axis = 1)\n",
        "        data.dropna(inplace=True)\n",
        "        data = data[data.index.minute % timeStamp == 0]\n",
        "\n",
        "        return data\n",
        "\n",
        "      elif type(drops) is list:\n",
        "        try:\n",
        "          dataWeather = pd.read_csv(weatherPath, index_col = 0, parse_dates = True)\n",
        "          dataWeather[\"month\"] = dataWeather.index.month\n",
        "          dataWeather[\"day\"] = dataWeather.index.day\n",
        "          dataWeather[\"hour\"] = dataWeather.index.hour\n",
        "          dataWeather[\"minute\"] = dataWeather.index.minute\n",
        "          dataWeather.drop(drops,axis=1,inplace=True)\n",
        "\n",
        "          dataIrradiance = pd.read_csv(irradiancePath, index_col = 0, usecols=[0,1],\n",
        "                                      parse_dates = True)\n",
        "          \n",
        "          data = pd.concat([dataWeather,dataIrradiance], axis = 1)\n",
        "          data.dropna(inplace=True)\n",
        "          data = data[data.index.minute % timeStamp == 0]\n",
        "\n",
        "        \n",
        "\n",
        "          return data\n",
        "\n",
        "        except KeyError:\n",
        "          print(\"[INFO] Colunas selecionadas para remoção, não existem nos dados\")\n",
        "          print(\"[INFO] Nenhuma coluna foi removida\")\n",
        "\n",
        "          dataWeather = pd.read_csv(weatherPath, index_col = 0, parse_dates = True)\n",
        "          dataWeather[\"month\"] = dataWeather.index.month\n",
        "          dataWeather[\"day\"] = dataWeather.index.day\n",
        "          dataWeather[\"hour\"] = dataWeather.index.hour\n",
        "          dataWeather[\"minute\"] = dataWeather.index.minute\n",
        "\n",
        "          dataIrradiance = pd.read_csv(irradiancePath, index_col = 0, usecols=[0,1],\n",
        "                                      parse_dates = True)\n",
        "          \n",
        "          data = pd.concat([dataWeather,dataIrradiance], axis = 1)\n",
        "          data.dropna(inplace=True)\n",
        "          data = data[data.index.minute % timeStamp == 0]\n",
        "\n",
        "          return data\n",
        "\n",
        "      else:\n",
        "        raise TypeError(\"Argumento drops precisa ser None ou List\")"
      ],
      "execution_count": null,
      "outputs": []
    },
    {
      "cell_type": "markdown",
      "metadata": {
        "id": "MzAJGgpvPwY6"
      },
      "source": [
        "# Modelo\n",
        "\n",
        "FEITO: Função que cria os modelos de forma dinamica.\n",
        "* Argumentos:\n",
        "  1. Numero de entradas\n",
        "  2. Numero de saidas\n",
        "  3. Numero de camadas = lista com os numeros de neuronios em cada cama.\n",
        "  4. dropout: Porcentagem de dropout\n",
        "  5. batchNorm: Vai colocar batchnormalization? \n",
        "  6. função ativação: Vai mudar a função ativação?\n",
        "\n",
        "* Retorno\n",
        "  1. Retorna uma Sequencial(tf.keras.models.Sequentail)"
      ]
    },
    {
      "cell_type": "code",
      "metadata": {
        "id": "JKoAN_VJbpBa"
      },
      "source": [
        "def get_model(n_in: int, \n",
        "              n_out: int,\n",
        "              nLayers: list,\n",
        "              dropout: float=0.15,\n",
        "              batchNorm: bool=False,\n",
        "              activ: str = \"relu\"\n",
        "              ) -> tf.keras.models.Sequential :\n",
        "    \"\"\"[summary]\n",
        "\n",
        "    Args:\n",
        "        n_in (int): [description]\n",
        "        n_out (int): [description]\n",
        "        nLayers (list): [description]\n",
        "        dropout (float, optional): [description]. Defaults to 0.15.\n",
        "        batchNorm (bool, optional): [description]. Defaults to False.\n",
        "        activ (str, optional): [description]. Defaults to \"relu\".\n",
        "\n",
        "    Returns:\n",
        "        tf.keras.models.Sequential: [description]\n",
        "    \"\"\"\n",
        "    #Cria o Sequential\n",
        "    model = Sequential()\n",
        "    #Define uma semente randomica, para que cada inicialização de peso seja igual\n",
        "    #em todas as redes\n",
        "    seed = 2459\n",
        "\n",
        "    if batchNorm:\n",
        "    # Se o batchNorm for True, o modelo tera em cada camada uma camada de \n",
        "    # normalização dos batch (https://keras.io/api/layers/normalization_layers/batch_normalization/)\n",
        "\n",
        "      for layer in nLayers:\n",
        "        model.add(Dense(layer,\n",
        "          activation=activ,\n",
        "          kernel_initializer = GlorotNormal(seed=seed),\n",
        "          input_shape=(n_in,)))\n",
        "        model.add(BatchNormalization())\n",
        "        model.add(Dropout(dropout))\n",
        "        n_in = layer\n",
        "      \n",
        "      model.add(Dense(n_out,input_shape=(n_in,)))\n",
        "\n",
        "      return model\n",
        "\n",
        "    elif not batchNorm:\n",
        "    # Quando False o modelo não tera nenhuma camada de batchNormalization\n",
        "      for layer in nLayers:\n",
        "        model.add(Dense(layer,\n",
        "                        activation=activ,\n",
        "                        kernel_initializer = GlorotNormal(seed=seed),\n",
        "                        input_shape=(n_in,)))\n",
        "        model.add(Dropout(dropout))\n",
        "        n_in = layer\n",
        "      \n",
        "      model.add(Dense(n_out,input_shape=(n_in,)))\n",
        "\n",
        "      return model"
      ],
      "execution_count": null,
      "outputs": []
    },
    {
      "cell_type": "markdown",
      "metadata": {
        "id": "P9LLdenHGhTc"
      },
      "source": [
        "# Fases\n",
        "\n",
        "Hiperparametros fixos.\n",
        "\n",
        "epocas = 1000\n",
        "\n",
        "learning_rate = 0.001\n",
        "\n",
        "e qualquer outro hiperparametro pertinente ao modelo.\n",
        "\n",
        "Modelos a serem treinados\n",
        "* Conjunto Ampliado de variavel\n",
        "      1 camada com 10, 30 e 60 neuronios.\n",
        "      2 camadas com 10(5/5), 30(15/15) e 60(30/30) neuronios\n",
        "\n",
        "Primeira fase: Deixamos a ativação fixa e mudamos apenas os horizontes.\n",
        "\n",
        "Segunda fase: Deixamos os horizontes fixos e mudamos as ativações.\n",
        "\n",
        "A base de treino tera 2 anos completos, a validação sera metade do terceiro ano,\n",
        "e o teste a outra metade.\n",
        "\n",
        "Nos definimos um criterio de parada, para parar o treinamento assim que o loss de validação não diminuir mais depois de 5 epocas. para evitar erros, salvamos sempre o modelo com o menor loss de validação e antes de realizar os testes, carregamos ele da pasta."
      ]
    },
    {
      "cell_type": "markdown",
      "metadata": {
        "id": "w5XQkRtMBUcY"
      },
      "source": [
        "## Treinamento"
      ]
    },
    {
      "cell_type": "markdown",
      "metadata": {
        "id": "k33we-1xKbGq"
      },
      "source": [
        "### Primeira Fase"
      ]
    },
    {
      "cell_type": "code",
      "metadata": {
        "id": "70OWSAPaGJtc",
        "cellView": "both"
      },
      "source": [
        "#@title Ativação fixa, horizonte variavel\n",
        "dir = \"/content/tmp_sem_ghi\"\n",
        "\n",
        "try:\n",
        "  os.listdir(dir)\n",
        "except FileNotFoundError:\n",
        "  os.mkdir(dir)\n",
        "\n",
        "camadas = [[10], [30], [60], [5,5], [15,15], [30,30]]\n",
        "\n",
        "activation_function = \"relu\" #@param [\"relu\",\"sigmoid\",\"tanh\"]{allow-input: true}\n",
        "batch_Normalization = True #@param {type:\"boolean\"}\n",
        "\n",
        "save_dir = dir+\"/\"+activation_function+\"_\"+str(horizonte)"
      ],
      "execution_count": null,
      "outputs": []
    },
    {
      "cell_type": "code",
      "metadata": {
        "id": "ief-_cMNOnkb"
      },
      "source": [
        "try:\n",
        "  os.listdir(save_dir)\n",
        "except FileNotFoundError:\n",
        "  os.mkdir(save_dir)"
      ],
      "execution_count": null,
      "outputs": []
    },
    {
      "cell_type": "code",
      "metadata": {
        "id": "-JGcP4SgZs7i",
        "cellView": "form"
      },
      "source": [
        "#@title Caminhos\n",
        "weatherPath = \"/content/drive/My Drive/IC Victor/2019-2020/Projeto EUA/Folsom_weather.csv\" #@param {type:\"string\"}\n",
        "irradiancePath = \"/content/drive/My Drive/IC Victor/2019-2020/Projeto EUA/Folsom_irradiance.csv\" #@param {type:\"string\"}\n",
        "drops =  None#@param {type:\"raw\"}\n",
        "horizonte =   60#@param {type:\"number\"}\n",
        "data = get_data(weatherPath, \n",
        "                irradiancePath,\n",
        "                horizonte,\n",
        "                drops)\n",
        "\n",
        "\n",
        "train = data[data.index.year != 2016]\n",
        "test = data[data.index.year == 2016]\n",
        "\n",
        "trainNorm = 0.1 + 0.8 * ((train - train.min()) / (train.max() - train.min()))\n",
        "testNorm = 0.1 + 0.8 * ((test - test.min()) / (test.max() - test.min()))\n",
        "\n",
        "TrainDataset = np.hstack([trainNorm[i].values.reshape((len(trainNorm[i]),1)) for i in trainNorm.columns])\n",
        "TestDataset = np.hstack([testNorm[i].values.reshape((len(testNorm[i]),1)) for i in testNorm.columns])\n",
        "\n",
        "ghi = False #@param {type:\"boolean\"}\n",
        "\n",
        "if ghi:\n",
        "  #Treino\n",
        "  X_train, y_train = split_sequences_ghi(TrainDataset, 1)\n",
        "\n",
        "  #Validação\n",
        "  X_val, y_val =  split_sequences_ghi(TestDataset[:int(len(TestDataset)/2)], 1)\n",
        "\n",
        "  #test\n",
        "  X_test, y_test = split_sequences_ghi(TestDataset[int(len(TestDataset)/2):], 1)\n",
        "\n",
        "else: \n",
        "  #Treino\n",
        "  X_train, y_train = split_sequences(TrainDataset, 1)\n",
        "\n",
        "  #Validação\n",
        "  X_val, y_val =  split_sequences(TestDataset[:int(len(TestDataset)/2)], 1)\n",
        "\n",
        "  #test\n",
        "  X_test, y_test = split_sequences(TestDataset[int(len(TestDataset)/2):], 1)\n",
        "\n",
        "\n",
        "n_in = X_train.shape[1] * X_train.shape[2]\n",
        "\n",
        "X_train = X_train.reshape((X_train.shape[0], n_in))\n",
        "\n",
        "X_val = X_val.reshape((X_val.shape[0], n_in))\n",
        "\n",
        "X_test = X_test.reshape((X_test.shape[0], n_in))"
      ],
      "execution_count": null,
      "outputs": []
    },
    {
      "cell_type": "code",
      "metadata": {
        "id": "vqR6sJSUP3lc"
      },
      "source": [
        "#Definindo o early stop\n",
        "early = EarlyStopping(monitor = \"val_loss\", patience = 5)"
      ],
      "execution_count": null,
      "outputs": []
    },
    {
      "cell_type": "code",
      "metadata": {
        "id": "VOLbCq_yOoDi",
        "cellView": "form"
      },
      "source": [
        "#@title Função Treino (verbose, 0 para não mostrar nada, 1 mostrar tudo, 2 mostrar só quando acabar uma epoca)\n",
        "\n",
        "verbose = 0 #@param {type:\"number\"}\n",
        "\n",
        "def Treino(n_in):\n",
        "  mape = tf.keras.metrics.MeanAbsolutePercentageError()\n",
        "  rmse = tf.keras.metrics.RootMeanSquaredError()\n",
        "\n",
        "  for layer in camadas:\n",
        "    #Limpa a sessão\n",
        "    clear_session()\n",
        "\n",
        "    #Definindo o caminho para salvar o melhor modelo.\n",
        "    save_model = save_dir+\"/model_\"+str(layer)+\".h5\"\n",
        "\n",
        "    save = ModelCheckpoint(filepath=save_model,\n",
        "                          monitor=\"val_loss\",\n",
        "                          save_best_only=True)\n",
        "\n",
        "    #Cria modelo\n",
        "    model = get_model(n_in, \n",
        "                      1, \n",
        "                      layer,\n",
        "                      batchNorm = batch_Normalization,\n",
        "                      activ = activation_function)\n",
        "    \n",
        "    model.compile(loss=\"mse\",\n",
        "                  optimizer = tf.keras.optimizers.Adam(learning_rate = 0.001),\n",
        "                  metrics = [rmse, mape, coeff_determination])\n",
        "    \n",
        "    print(f\"[INFO] Treinando modelo {str(layer)}\")\n",
        "    start = time.time()\n",
        "    with tf.device(\"/device:GPU:0\"):\n",
        "      model.fit(\n",
        "          X_train,\n",
        "          y_train,\n",
        "          validation_data = (X_val, y_val),\n",
        "          epochs = 1000,\n",
        "          batch_size = 32,\n",
        "          verbose = verbose,\n",
        "          callbacks = [early, save]\n",
        "      )\n",
        "    end = time.time()\n",
        "\n",
        "    print(f\"[INFO] Modelo {str(layer)}, levou: {(end-start)/60} minutos para atingir o earlyStop\")"
      ],
      "execution_count": null,
      "outputs": []
    },
    {
      "cell_type": "code",
      "metadata": {
        "id": "axBgbuEei4Vj",
        "outputId": "023527b8-03bf-4a7a-d581-a9cea8557be6",
        "colab": {
          "base_uri": "https://localhost:8080/",
          "height": 221
        }
      },
      "source": [
        "Treino(n_in)"
      ],
      "execution_count": null,
      "outputs": [
        {
          "output_type": "stream",
          "text": [
            "[INFO] Treinando modelo [10]\n",
            "[INFO] Modelo [10], levou: 0.382641597588857 minutos para atingir o earlyStop\n",
            "[INFO] Treinando modelo [30]\n",
            "[INFO] Modelo [30], levou: 0.6720134933789571 minutos para atingir o earlyStop\n",
            "[INFO] Treinando modelo [60]\n",
            "[INFO] Modelo [60], levou: 0.846839948495229 minutos para atingir o earlyStop\n",
            "[INFO] Treinando modelo [5, 5]\n",
            "[INFO] Modelo [5, 5], levou: 0.4023749033610026 minutos para atingir o earlyStop\n",
            "[INFO] Treinando modelo [15, 15]\n",
            "[INFO] Modelo [15, 15], levou: 0.653419017791748 minutos para atingir o earlyStop\n",
            "[INFO] Treinando modelo [30, 30]\n",
            "[INFO] Modelo [30, 30], levou: 0.8836362163225809 minutos para atingir o earlyStop\n"
          ],
          "name": "stdout"
        }
      ]
    },
    {
      "cell_type": "code",
      "metadata": {
        "id": "8iwi9tSEYwyD",
        "cellView": "form"
      },
      "source": [
        "#@title Função Teste\n",
        "def Testes(X, y):\n",
        "  #Dataframe para guardar os resultados\n",
        "  stored_result = pd.DataFrame(index=[\"MSE\",\"RMSE\",\"MAPE(%)\",\"R2\"])\n",
        "\n",
        "  for i in glob(save_dir+\"/*\"):\n",
        "\n",
        "    clear_session()\n",
        "\n",
        "    model = load_model(i,custom_objects={'coeff_determination':coeff_determination})\n",
        "    loss = model.evaluate(X, y, verbose=0)\n",
        "    stored_result[i.split(\"/\")[-1]] = loss\n",
        "    y_pred = model.predict(X)\n",
        "    r2 = r2_score(y, y_pred)\n",
        "    stored_result[i.split(\"/\")[-1]].loc[\"R2\"] = r2\n",
        "\n",
        "\n",
        "  return stored_result"
      ],
      "execution_count": null,
      "outputs": []
    },
    {
      "cell_type": "code",
      "metadata": {
        "id": "N9DzfUFyoAio",
        "outputId": "66abd2e1-f7c3-4756-a33d-c7805673598a",
        "colab": {
          "base_uri": "https://localhost:8080/",
          "height": 173
        }
      },
      "source": [
        "result = Testes(X_test, y_test)\n",
        "result"
      ],
      "execution_count": null,
      "outputs": [
        {
          "output_type": "execute_result",
          "data": {
            "text/html": [
              "<div>\n",
              "<style scoped>\n",
              "    .dataframe tbody tr th:only-of-type {\n",
              "        vertical-align: middle;\n",
              "    }\n",
              "\n",
              "    .dataframe tbody tr th {\n",
              "        vertical-align: top;\n",
              "    }\n",
              "\n",
              "    .dataframe thead th {\n",
              "        text-align: right;\n",
              "    }\n",
              "</style>\n",
              "<table border=\"1\" class=\"dataframe\">\n",
              "  <thead>\n",
              "    <tr style=\"text-align: right;\">\n",
              "      <th></th>\n",
              "      <th>model_[5, 5].h5</th>\n",
              "      <th>model_[30, 30].h5</th>\n",
              "      <th>model_[60].h5</th>\n",
              "      <th>model_[10].h5</th>\n",
              "      <th>model_[30].h5</th>\n",
              "      <th>model_[15, 15].h5</th>\n",
              "    </tr>\n",
              "  </thead>\n",
              "  <tbody>\n",
              "    <tr>\n",
              "      <th>MSE</th>\n",
              "      <td>0.000646</td>\n",
              "      <td>0.000045</td>\n",
              "      <td>0.000066</td>\n",
              "      <td>0.000035</td>\n",
              "      <td>0.000035</td>\n",
              "      <td>0.000226</td>\n",
              "    </tr>\n",
              "    <tr>\n",
              "      <th>RMSE</th>\n",
              "      <td>0.025419</td>\n",
              "      <td>0.006713</td>\n",
              "      <td>0.008095</td>\n",
              "      <td>0.005956</td>\n",
              "      <td>0.005929</td>\n",
              "      <td>0.015027</td>\n",
              "    </tr>\n",
              "    <tr>\n",
              "      <th>MAPE(%)</th>\n",
              "      <td>15.084208</td>\n",
              "      <td>3.489993</td>\n",
              "      <td>4.273460</td>\n",
              "      <td>3.362058</td>\n",
              "      <td>3.456634</td>\n",
              "      <td>5.928783</td>\n",
              "    </tr>\n",
              "    <tr>\n",
              "      <th>R2</th>\n",
              "      <td>0.984362</td>\n",
              "      <td>0.998909</td>\n",
              "      <td>0.998414</td>\n",
              "      <td>0.999141</td>\n",
              "      <td>0.999149</td>\n",
              "      <td>0.994535</td>\n",
              "    </tr>\n",
              "  </tbody>\n",
              "</table>\n",
              "</div>"
            ],
            "text/plain": [
              "         model_[5, 5].h5  model_[30, 30].h5  ...  model_[30].h5  model_[15, 15].h5\n",
              "MSE             0.000646           0.000045  ...       0.000035           0.000226\n",
              "RMSE            0.025419           0.006713  ...       0.005929           0.015027\n",
              "MAPE(%)        15.084208           3.489993  ...       3.456634           5.928783\n",
              "R2              0.984362           0.998909  ...       0.999149           0.994535\n",
              "\n",
              "[4 rows x 6 columns]"
            ]
          },
          "metadata": {
            "tags": []
          },
          "execution_count": 107
        }
      ]
    },
    {
      "cell_type": "code",
      "metadata": {
        "id": "5FHizp1XMQnv",
        "cellView": "form"
      },
      "source": [
        "#@title Função gráfico (make_graph_plt)\n",
        "def make_graph_plt(X,y, days=1):\n",
        "\n",
        "  plt.figure(figsize=(12,8))\n",
        "  plt.plot(y[0:1440*days], \"*\" ,markersize=8,label=\"True Value\")\n",
        "\n",
        "  for i in glob(save_dir+\"/*\"):\n",
        "    model = load_model(i, custom_objects={'coeff_determination':coeff_determination})\n",
        "    y_pred = model.predict(X)\n",
        "    name = i.split(\"/\")[-1]\n",
        "    plt.plot(y_pred[0:1440*days], label=f\"{name}\")\n",
        "  \n",
        "  plt.legend()\n",
        "  plt.grid(True)"
      ],
      "execution_count": null,
      "outputs": []
    },
    {
      "cell_type": "code",
      "metadata": {
        "id": "7AOCvMLBaiXL",
        "cellView": "form"
      },
      "source": [
        "#@title Função gráfico (make_graph_ly)\n",
        "\n",
        "def make_graph_ly(X, y):\n",
        "\n",
        "  data = []\n",
        "\n",
        "  for i in glob(save_dir+\"/*\"):\n",
        "    model = load_model(i, custom_objects={'coeff_determination':coeff_determination})\n",
        "    y_pred = model.predict(X)\n",
        "    name = i.split(\"/\")[-1]\n",
        "\n",
        "    trace = go.Scatter(\n",
        "        x = np.arange(0, y_pred.shape[0]),\n",
        "        y = y_pred.squeeze(),\n",
        "        mode = 'lines',\n",
        "        name = name\n",
        "    )\n",
        "\n",
        "    data.append(trace)\n",
        "\n",
        "    trace_true = go.Scatter(\n",
        "      x = np.arange(0, y.shape[0]),\n",
        "      y = y,\n",
        "      mode = 'markers',\n",
        "      name = \"True Value\"\n",
        "  )\n",
        "    data.append(trace_true)\n",
        "\n",
        "  iplot(data)"
      ],
      "execution_count": null,
      "outputs": []
    },
    {
      "cell_type": "code",
      "metadata": {
        "id": "x_T9oPWDShQ6",
        "outputId": "e3bc3281-b7f4-4b2b-b116-27dc0e8b0d29",
        "colab": {
          "base_uri": "https://localhost:8080/",
          "height": 483
        }
      },
      "source": [
        "make_graph_plt(X_test,y_test,3)\n"
      ],
      "execution_count": null,
      "outputs": [
        {
          "output_type": "display_data",
          "data": {
            "image/png": "[encoded data removed]",
            "text/plain": [
              "<Figure size 864x576 with 1 Axes>"
            ]
          },
          "metadata": {
            "tags": [],
            "needs_background": "light"
          }
        }
      ]
    },
    {
      "cell_type": "code",
      "metadata": {
        "id": "Ur1BVZP1cSqb"
      },
      "source": [
        "make_graph_ly(X_test[0:1440*3], y_test[0:1440*3])"
      ],
      "execution_count": null,
      "outputs": []
    },
    {
      "cell_type": "code",
      "metadata": {
        "id": "6foHdkQ7mRhF",
        "cellView": "both",
        "outputId": "89f66d65-7f08-4055-bade-cac20ed81bc2",
        "colab": {
          "base_uri": "https://localhost:8080/",
          "height": 391
        }
      },
      "source": [
        "#@title Zip\n",
        "!zip -r /content/tmp_com_ghi.zip /content/tmp_com_ghi\n",
        "from google.colab import files\n",
        "files.download(\"/content/tmp_com_ghi.zip\")"
      ],
      "execution_count": null,
      "outputs": [
        {
          "output_type": "stream",
          "text": [
            "  adding: content/tmp_com_ghi/ (stored 0%)\n",
            "  adding: content/tmp_com_ghi/relu_1/ (stored 0%)\n",
            "  adding: content/tmp_com_ghi/relu_1/model_[5, 5].h5 (deflated 90%)\n",
            "  adding: content/tmp_com_ghi/relu_1/model_[30, 30].h5 (deflated 70%)\n",
            "  adding: content/tmp_com_ghi/relu_1/model_[60].h5 (deflated 73%)\n",
            "  adding: content/tmp_com_ghi/relu_1/model_[10].h5 (deflated 88%)\n",
            "  adding: content/tmp_com_ghi/relu_1/model_[30].h5 (deflated 81%)\n",
            "  adding: content/tmp_com_ghi/relu_1/model_[15, 15].h5 (deflated 83%)\n",
            "  adding: content/tmp_com_ghi/relu_60/ (stored 0%)\n",
            "  adding: content/tmp_com_ghi/relu_60/model_[5, 5].h5 (deflated 90%)\n",
            "  adding: content/tmp_com_ghi/relu_60/model_[30, 30].h5 (deflated 70%)\n",
            "  adding: content/tmp_com_ghi/relu_60/model_[60].h5 (deflated 75%)\n",
            "  adding: content/tmp_com_ghi/relu_60/model_[10].h5 (deflated 88%)\n",
            "  adding: content/tmp_com_ghi/relu_60/model_[30].h5 (deflated 82%)\n",
            "  adding: content/tmp_com_ghi/relu_60/model_[15, 15].h5 (deflated 83%)\n",
            "  adding: content/tmp_com_ghi/relu_30/ (stored 0%)\n",
            "  adding: content/tmp_com_ghi/relu_30/model_[5, 5].h5 (deflated 90%)\n",
            "  adding: content/tmp_com_ghi/relu_30/model_[30, 30].h5 (deflated 70%)\n",
            "  adding: content/tmp_com_ghi/relu_30/model_[60].h5 (deflated 73%)\n",
            "  adding: content/tmp_com_ghi/relu_30/model_[10].h5 (deflated 88%)\n",
            "  adding: content/tmp_com_ghi/relu_30/model_[30].h5 (deflated 81%)\n",
            "  adding: content/tmp_com_ghi/relu_30/model_[15, 15].h5 (deflated 83%)\n"
          ],
          "name": "stdout"
        },
        {
          "output_type": "display_data",
          "data": {
            "application/javascript": [
              "\n",
              "    async function download(id, filename, size) {\n",
              "      if (!google.colab.kernel.accessAllowed) {\n",
              "        return;\n",
              "      }\n",
              "      const div = document.createElement('div');\n",
              "      const label = document.createElement('label');\n",
              "      label.textContent = `Downloading \"${filename}\": `;\n",
              "      div.appendChild(label);\n",
              "      const progress = document.createElement('progress');\n",
              "      progress.max = size;\n",
              "      div.appendChild(progress);\n",
              "      document.body.appendChild(div);\n",
              "\n",
              "      const buffers = [];\n",
              "      let downloaded = 0;\n",
              "\n",
              "      const channel = await google.colab.kernel.comms.open(id);\n",
              "      // Send a message to notify the kernel that we're ready.\n",
              "      channel.send({})\n",
              "\n",
              "      for await (const message of channel.messages) {\n",
              "        // Send a message to notify the kernel that we're ready.\n",
              "        channel.send({})\n",
              "        if (message.buffers) {\n",
              "          for (const buffer of message.buffers) {\n",
              "            buffers.push(buffer);\n",
              "            downloaded += buffer.byteLength;\n",
              "            progress.value = downloaded;\n",
              "          }\n",
              "        }\n",
              "      }\n",
              "      const blob = new Blob(buffers, {type: 'application/binary'});\n",
              "      const a = document.createElement('a');\n",
              "      a.href = window.URL.createObjectURL(blob);\n",
              "      a.download = filename;\n",
              "      div.appendChild(a);\n",
              "      a.click();\n",
              "      div.remove();\n",
              "    }\n",
              "  "
            ],
            "text/plain": [
              "<IPython.core.display.Javascript object>"
            ]
          },
          "metadata": {
            "tags": []
          }
        },
        {
          "output_type": "display_data",
          "data": {
            "application/javascript": [
              "download(\"download_c954ecae-37ae-4bd8-90dc-a183ad6330cc\", \"tmp_com_ghi.zip\", 172355)"
            ],
            "text/plain": [
              "<IPython.core.display.Javascript object>"
            ]
          },
          "metadata": {
            "tags": []
          }
        }
      ]
    },
    {
      "cell_type": "markdown",
      "metadata": {
        "id": "Ub6FMjjMBdqi"
      },
      "source": [
        "## Teste"
      ]
    },
    {
      "cell_type": "code",
      "metadata": {
        "id": "3krH01y6XXjT",
        "outputId": "c375c74a-d99c-47b3-f6c2-6f5ff8224f57",
        "colab": {
          "base_uri": "https://localhost:8080/",
          "height": 1000
        }
      },
      "source": [
        "#!unzip \"/content/drive/My Drive/UNILA/Pesquisa/2020/IC Victor/2020-2021/Artigo 1 RBIC/Artigo 1_resultados.zip\""
      ],
      "execution_count": null,
      "outputs": [
        {
          "output_type": "stream",
          "text": [
            "Archive:  /content/drive/My Drive/UNILA/Pesquisa/2020/IC Victor/2020-2021/Artigo 1 RBIC/Artigo 1_resultados.zip\n",
            "   creating: Artigo 1/Variaveis ampliadas/\n",
            "   creating: Artigo 1/Variaveis ampliadas/tmp_com_ghi/\n",
            "   creating: Artigo 1/Variaveis ampliadas/tmp_com_ghi/relu_1/\n",
            "  inflating: Artigo 1/Variaveis ampliadas/tmp_com_ghi/relu_1/model_[10].h5  \n",
            "  inflating: Artigo 1/Variaveis ampliadas/tmp_com_ghi/relu_1/model_[15, 15].h5  \n",
            "  inflating: Artigo 1/Variaveis ampliadas/tmp_com_ghi/relu_1/model_[30, 30].h5  \n",
            "  inflating: Artigo 1/Variaveis ampliadas/tmp_com_ghi/relu_1/model_[30].h5  \n",
            "  inflating: Artigo 1/Variaveis ampliadas/tmp_com_ghi/relu_1/model_[5, 5].h5  \n",
            "  inflating: Artigo 1/Variaveis ampliadas/tmp_com_ghi/relu_1/model_[60].h5  \n",
            "   creating: Artigo 1/Variaveis ampliadas/tmp_com_ghi/relu_30/\n",
            "  inflating: Artigo 1/Variaveis ampliadas/tmp_com_ghi/relu_30/model_[10].h5  \n",
            "  inflating: Artigo 1/Variaveis ampliadas/tmp_com_ghi/relu_30/model_[15, 15].h5  \n",
            "  inflating: Artigo 1/Variaveis ampliadas/tmp_com_ghi/relu_30/model_[30, 30].h5  \n",
            "  inflating: Artigo 1/Variaveis ampliadas/tmp_com_ghi/relu_30/model_[30].h5  \n",
            "  inflating: Artigo 1/Variaveis ampliadas/tmp_com_ghi/relu_30/model_[5, 5].h5  \n",
            "  inflating: Artigo 1/Variaveis ampliadas/tmp_com_ghi/relu_30/model_[60].h5  \n",
            "   creating: Artigo 1/Variaveis ampliadas/tmp_com_ghi/relu_60/\n",
            "  inflating: Artigo 1/Variaveis ampliadas/tmp_com_ghi/relu_60/model_[10].h5  \n",
            "  inflating: Artigo 1/Variaveis ampliadas/tmp_com_ghi/relu_60/model_[15, 15].h5  \n",
            "  inflating: Artigo 1/Variaveis ampliadas/tmp_com_ghi/relu_60/model_[30, 30].h5  \n",
            "  inflating: Artigo 1/Variaveis ampliadas/tmp_com_ghi/relu_60/model_[30].h5  \n",
            "  inflating: Artigo 1/Variaveis ampliadas/tmp_com_ghi/relu_60/model_[5, 5].h5  \n",
            "  inflating: Artigo 1/Variaveis ampliadas/tmp_com_ghi/relu_60/model_[60].h5  \n",
            "   creating: Artigo 1/Variaveis ampliadas/tmp_sem_ghi/\n",
            "   creating: Artigo 1/Variaveis ampliadas/tmp_sem_ghi/relu_1/\n",
            "  inflating: Artigo 1/Variaveis ampliadas/tmp_sem_ghi/relu_1/model_[10].h5  \n",
            "  inflating: Artigo 1/Variaveis ampliadas/tmp_sem_ghi/relu_1/model_[15, 15].h5  \n",
            "  inflating: Artigo 1/Variaveis ampliadas/tmp_sem_ghi/relu_1/model_[30, 30].h5  \n",
            "  inflating: Artigo 1/Variaveis ampliadas/tmp_sem_ghi/relu_1/model_[30].h5  \n",
            "  inflating: Artigo 1/Variaveis ampliadas/tmp_sem_ghi/relu_1/model_[5, 5].h5  \n",
            "  inflating: Artigo 1/Variaveis ampliadas/tmp_sem_ghi/relu_1/model_[60].h5  \n",
            "   creating: Artigo 1/Variaveis ampliadas/tmp_sem_ghi/relu_30/\n",
            "  inflating: Artigo 1/Variaveis ampliadas/tmp_sem_ghi/relu_30/model_[10].h5  \n",
            "  inflating: Artigo 1/Variaveis ampliadas/tmp_sem_ghi/relu_30/model_[15, 15].h5  \n",
            "  inflating: Artigo 1/Variaveis ampliadas/tmp_sem_ghi/relu_30/model_[30, 30].h5  \n",
            "  inflating: Artigo 1/Variaveis ampliadas/tmp_sem_ghi/relu_30/model_[30].h5  \n",
            "  inflating: Artigo 1/Variaveis ampliadas/tmp_sem_ghi/relu_30/model_[5, 5].h5  \n",
            "  inflating: Artigo 1/Variaveis ampliadas/tmp_sem_ghi/relu_30/model_[60].h5  \n",
            "   creating: Artigo 1/Variaveis ampliadas/tmp_sem_ghi/relu_60/\n",
            "  inflating: Artigo 1/Variaveis ampliadas/tmp_sem_ghi/relu_60/model_[10].h5  \n",
            "  inflating: Artigo 1/Variaveis ampliadas/tmp_sem_ghi/relu_60/model_[15, 15].h5  \n",
            "  inflating: Artigo 1/Variaveis ampliadas/tmp_sem_ghi/relu_60/model_[30, 30].h5  \n",
            "  inflating: Artigo 1/Variaveis ampliadas/tmp_sem_ghi/relu_60/model_[30].h5  \n",
            "  inflating: Artigo 1/Variaveis ampliadas/tmp_sem_ghi/relu_60/model_[5, 5].h5  \n",
            "  inflating: Artigo 1/Variaveis ampliadas/tmp_sem_ghi/relu_60/model_[60].h5  \n",
            "   creating: Artigo 1/variaveis reduzidas/\n",
            "   creating: Artigo 1/variaveis reduzidas/tmp_com_ghi/\n",
            "   creating: Artigo 1/variaveis reduzidas/tmp_com_ghi/relu_1/\n",
            "  inflating: Artigo 1/variaveis reduzidas/tmp_com_ghi/relu_1/model_[10].h5  \n",
            "  inflating: Artigo 1/variaveis reduzidas/tmp_com_ghi/relu_1/model_[15, 15].h5  \n",
            "  inflating: Artigo 1/variaveis reduzidas/tmp_com_ghi/relu_1/model_[30, 30].h5  \n",
            "  inflating: Artigo 1/variaveis reduzidas/tmp_com_ghi/relu_1/model_[30].h5  \n",
            "  inflating: Artigo 1/variaveis reduzidas/tmp_com_ghi/relu_1/model_[5, 5].h5  \n",
            "  inflating: Artigo 1/variaveis reduzidas/tmp_com_ghi/relu_1/model_[60].h5  \n",
            "   creating: Artigo 1/variaveis reduzidas/tmp_com_ghi/relu_30/\n",
            "  inflating: Artigo 1/variaveis reduzidas/tmp_com_ghi/relu_30/model_[10].h5  \n",
            "  inflating: Artigo 1/variaveis reduzidas/tmp_com_ghi/relu_30/model_[15, 15].h5  \n",
            "  inflating: Artigo 1/variaveis reduzidas/tmp_com_ghi/relu_30/model_[30, 30].h5  \n",
            "  inflating: Artigo 1/variaveis reduzidas/tmp_com_ghi/relu_30/model_[30].h5  \n",
            "  inflating: Artigo 1/variaveis reduzidas/tmp_com_ghi/relu_30/model_[5, 5].h5  \n",
            "  inflating: Artigo 1/variaveis reduzidas/tmp_com_ghi/relu_30/model_[60].h5  \n",
            "   creating: Artigo 1/variaveis reduzidas/tmp_com_ghi/relu_60/\n",
            "  inflating: Artigo 1/variaveis reduzidas/tmp_com_ghi/relu_60/model_[10].h5  \n",
            "  inflating: Artigo 1/variaveis reduzidas/tmp_com_ghi/relu_60/model_[15, 15].h5  \n",
            "  inflating: Artigo 1/variaveis reduzidas/tmp_com_ghi/relu_60/model_[30, 30].h5  \n",
            "  inflating: Artigo 1/variaveis reduzidas/tmp_com_ghi/relu_60/model_[30].h5  \n",
            "  inflating: Artigo 1/variaveis reduzidas/tmp_com_ghi/relu_60/model_[5, 5].h5  \n",
            "  inflating: Artigo 1/variaveis reduzidas/tmp_com_ghi/relu_60/model_[60].h5  \n",
            "   creating: Artigo 1/variaveis reduzidas/tmp_sem_ghi/\n",
            "   creating: Artigo 1/variaveis reduzidas/tmp_sem_ghi/relu_1/\n",
            "  inflating: Artigo 1/variaveis reduzidas/tmp_sem_ghi/relu_1/model_[10].h5  \n",
            "  inflating: Artigo 1/variaveis reduzidas/tmp_sem_ghi/relu_1/model_[15, 15].h5  \n",
            "  inflating: Artigo 1/variaveis reduzidas/tmp_sem_ghi/relu_1/model_[30, 30].h5  \n",
            "  inflating: Artigo 1/variaveis reduzidas/tmp_sem_ghi/relu_1/model_[30].h5  \n",
            "  inflating: Artigo 1/variaveis reduzidas/tmp_sem_ghi/relu_1/model_[5, 5].h5  \n",
            "  inflating: Artigo 1/variaveis reduzidas/tmp_sem_ghi/relu_1/model_[60].h5  \n",
            "   creating: Artigo 1/variaveis reduzidas/tmp_sem_ghi/relu_30/\n",
            "  inflating: Artigo 1/variaveis reduzidas/tmp_sem_ghi/relu_30/model_[10].h5  \n",
            "  inflating: Artigo 1/variaveis reduzidas/tmp_sem_ghi/relu_30/model_[15, 15].h5  \n",
            "  inflating: Artigo 1/variaveis reduzidas/tmp_sem_ghi/relu_30/model_[30, 30].h5  \n",
            "  inflating: Artigo 1/variaveis reduzidas/tmp_sem_ghi/relu_30/model_[30].h5  \n",
            "  inflating: Artigo 1/variaveis reduzidas/tmp_sem_ghi/relu_30/model_[5, 5].h5  \n",
            "  inflating: Artigo 1/variaveis reduzidas/tmp_sem_ghi/relu_30/model_[60].h5  \n",
            "   creating: Artigo 1/variaveis reduzidas/tmp_sem_ghi/relu_60/\n",
            "  inflating: Artigo 1/variaveis reduzidas/tmp_sem_ghi/relu_60/model_[10].h5  \n",
            "  inflating: Artigo 1/variaveis reduzidas/tmp_sem_ghi/relu_60/model_[15, 15].h5  \n",
            "  inflating: Artigo 1/variaveis reduzidas/tmp_sem_ghi/relu_60/model_[30, 30].h5  \n",
            "  inflating: Artigo 1/variaveis reduzidas/tmp_sem_ghi/relu_60/model_[30].h5  \n",
            "  inflating: Artigo 1/variaveis reduzidas/tmp_sem_ghi/relu_60/model_[5, 5].h5  \n",
            "  inflating: Artigo 1/variaveis reduzidas/tmp_sem_ghi/relu_60/model_[60].h5  \n"
          ],
          "name": "stdout"
        }
      ]
    },
    {
      "cell_type": "code",
      "metadata": {
        "id": "U4VskLBeXtZL"
      },
      "source": [
        "def get_result(path, X, y):\n",
        "\n",
        "  path = glob(path+\"/*\")\n",
        "  indexs = [i.split(\"/\")[-1] for i in path]\n",
        "  data = {}\n",
        "  for i in indexs:\n",
        "    data[i] = None\n",
        "  \n",
        "  for i in path:\n",
        "\n",
        "    name = i.split(\"/\")[-1]\n",
        "\n",
        "    clear_session()\n",
        "    model = load_model(i,custom_objects={'coeff_determination':coeff_determination})\n",
        "    loss = model.evaluate(X,y, verbose=0)\n",
        "    data[name] = loss\n",
        "    y_pred = model.predict(X)\n",
        "    r2 = r2_score(y,y_pred)\n",
        "    data[name][-1] = r2\n",
        "    \n",
        "  data = pd.DataFrame.from_dict(data,orient=\"index\",columns=[\"MSE\",\"RMSE\",\"MAPE(%)\",\"R2\"])\n",
        "\n",
        "  return data"
      ],
      "execution_count": null,
      "outputs": []
    },
    {
      "cell_type": "markdown",
      "metadata": {
        "id": "HXXKNVBNVYQN"
      },
      "source": [
        "1 minuto com ghi, 30 minuto com ghi, 60 minuto com ghi, 1 minuto sem ghi ( variavel ampliada)\n",
        "\n",
        "60 minuto sem ghi(variavel reduzida)"
      ]
    },
    {
      "cell_type": "code",
      "metadata": {
        "id": "fgPbhldQexOH",
        "cellView": "form"
      },
      "source": [
        "#@title Caminhos\n",
        "weatherPath = \"/content/drive/My Drive/IC Victor/2019-2020/Projeto EUA/Folsom_weather.csv\" #@param {type:\"string\"}\n",
        "irradiancePath = \"/content/drive/My Drive/IC Victor/2019-2020/Projeto EUA/Folsom_irradiance.csv\" #@param {type:\"string\"}\n",
        "drops =  None#@param {type:\"raw\"}\n",
        "horizonte =   60#@param {type:\"number\"}\n",
        "data = get_data(weatherPath, \n",
        "                irradiancePath,\n",
        "                horizonte,\n",
        "                drops)\n",
        "\n",
        "\n",
        "train = data[data.index.year != 2016]\n",
        "test = data[data.index.year == 2016]\n",
        "\n",
        "trainNorm = 0.1 + 0.8 * ((train - train.min()) / (train.max() - train.min()))\n",
        "testNorm = 0.1 + 0.8 * ((test - test.min()) / (test.max() - test.min()))\n",
        "\n",
        "TrainDataset = np.hstack([trainNorm[i].values.reshape((len(trainNorm[i]),1)) for i in trainNorm.columns])\n",
        "TestDataset = np.hstack([testNorm[i].values.reshape((len(testNorm[i]),1)) for i in testNorm.columns])\n",
        "\n",
        "ghi = False #@param {type:\"boolean\"}\n",
        "\n",
        "if ghi:\n",
        "  #Treino\n",
        "  X_train, y_train = split_sequences_ghi(TrainDataset, 1)\n",
        "\n",
        "  #Validação\n",
        "  X_val, y_val =  split_sequences_ghi(TestDataset[:int(len(TestDataset)/2)], 1)\n",
        "\n",
        "  #test\n",
        "  X_test, y_test = split_sequences_ghi(TestDataset[int(len(TestDataset)/2):], 1)\n",
        "\n",
        "else: \n",
        "  #Treino\n",
        "  X_train, y_train = split_sequences(TrainDataset, 1)\n",
        "\n",
        "  #Validação\n",
        "  X_val, y_val =  split_sequences(TestDataset[:int(len(TestDataset)/2)], 1)\n",
        "\n",
        "  #test\n",
        "  X_test, y_test = split_sequences(TestDataset[int(len(TestDataset)/2):], 1)\n",
        "\n",
        "\n",
        "n_in = X_train.shape[1] * X_train.shape[2]\n",
        "\n",
        "X_train = X_train.reshape((X_train.shape[0], n_in))\n",
        "\n",
        "X_val = X_val.reshape((X_val.shape[0], n_in))\n",
        "\n",
        "X_test = X_test.reshape((X_test.shape[0], n_in))"
      ],
      "execution_count": null,
      "outputs": []
    },
    {
      "cell_type": "code",
      "metadata": {
        "id": "t-rsXRssXuPq"
      },
      "source": [
        "path = \"/content/Artigo 1/Variaveis ampliadas/tmp_com_ghi/relu_1\""
      ],
      "execution_count": null,
      "outputs": []
    },
    {
      "cell_type": "code",
      "metadata": {
        "id": "gNpuc12iWaBL"
      },
      "source": [
        "result = get_result(path,X_test,y_test)"
      ],
      "execution_count": null,
      "outputs": []
    },
    {
      "cell_type": "code",
      "metadata": {
        "id": "fWgWZOsNWeXw",
        "outputId": "0e982aee-decb-4f63-961f-ce9d7b6c62c5",
        "colab": {
          "base_uri": "https://localhost:8080/",
          "height": 235
        }
      },
      "source": [
        "result"
      ],
      "execution_count": null,
      "outputs": [
        {
          "output_type": "execute_result",
          "data": {
            "text/html": [
              "<div>\n",
              "<style scoped>\n",
              "    .dataframe tbody tr th:only-of-type {\n",
              "        vertical-align: middle;\n",
              "    }\n",
              "\n",
              "    .dataframe tbody tr th {\n",
              "        vertical-align: top;\n",
              "    }\n",
              "\n",
              "    .dataframe thead th {\n",
              "        text-align: right;\n",
              "    }\n",
              "</style>\n",
              "<table border=\"1\" class=\"dataframe\">\n",
              "  <thead>\n",
              "    <tr style=\"text-align: right;\">\n",
              "      <th></th>\n",
              "      <th>MSE</th>\n",
              "      <th>RMSE</th>\n",
              "      <th>MAPE(%)</th>\n",
              "      <th>R2</th>\n",
              "    </tr>\n",
              "  </thead>\n",
              "  <tbody>\n",
              "    <tr>\n",
              "      <th>model_[5, 5].h5</th>\n",
              "      <td>0.008068</td>\n",
              "      <td>0.089820</td>\n",
              "      <td>28.924074</td>\n",
              "      <td>0.804740</td>\n",
              "    </tr>\n",
              "    <tr>\n",
              "      <th>model_[30, 30].h5</th>\n",
              "      <td>0.002164</td>\n",
              "      <td>0.046523</td>\n",
              "      <td>13.133954</td>\n",
              "      <td>0.947615</td>\n",
              "    </tr>\n",
              "    <tr>\n",
              "      <th>model_[60].h5</th>\n",
              "      <td>0.003097</td>\n",
              "      <td>0.055647</td>\n",
              "      <td>16.412271</td>\n",
              "      <td>0.925054</td>\n",
              "    </tr>\n",
              "    <tr>\n",
              "      <th>model_[10].h5</th>\n",
              "      <td>0.008324</td>\n",
              "      <td>0.091237</td>\n",
              "      <td>38.973495</td>\n",
              "      <td>0.798531</td>\n",
              "    </tr>\n",
              "    <tr>\n",
              "      <th>model_[30].h5</th>\n",
              "      <td>0.006137</td>\n",
              "      <td>0.078342</td>\n",
              "      <td>26.780888</td>\n",
              "      <td>0.851456</td>\n",
              "    </tr>\n",
              "    <tr>\n",
              "      <th>model_[15, 15].h5</th>\n",
              "      <td>0.004622</td>\n",
              "      <td>0.067984</td>\n",
              "      <td>22.972713</td>\n",
              "      <td>0.888139</td>\n",
              "    </tr>\n",
              "  </tbody>\n",
              "</table>\n",
              "</div>"
            ],
            "text/plain": [
              "                        MSE      RMSE    MAPE(%)        R2\n",
              "model_[5, 5].h5    0.008068  0.089820  28.924074  0.804740\n",
              "model_[30, 30].h5  0.002164  0.046523  13.133954  0.947615\n",
              "model_[60].h5      0.003097  0.055647  16.412271  0.925054\n",
              "model_[10].h5      0.008324  0.091237  38.973495  0.798531\n",
              "model_[30].h5      0.006137  0.078342  26.780888  0.851456\n",
              "model_[15, 15].h5  0.004622  0.067984  22.972713  0.888139"
            ]
          },
          "metadata": {
            "tags": []
          },
          "execution_count": 126
        }
      ]
    },
    {
      "cell_type": "code",
      "metadata": {
        "id": "QFqdH8evWiYA"
      },
      "source": [
        ""
      ],
      "execution_count": null,
      "outputs": []
    }
  ]
}